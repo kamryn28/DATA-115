{
 "cells": [
  {
   "cell_type": "code",
   "execution_count": 5,
   "metadata": {},
   "outputs": [
    {
     "data": {
      "text/html": [
       "<div>\n",
       "<style scoped>\n",
       "    .dataframe tbody tr th:only-of-type {\n",
       "        vertical-align: middle;\n",
       "    }\n",
       "\n",
       "    .dataframe tbody tr th {\n",
       "        vertical-align: top;\n",
       "    }\n",
       "\n",
       "    .dataframe thead th {\n",
       "        text-align: right;\n",
       "    }\n",
       "</style>\n",
       "<table border=\"1\" class=\"dataframe\">\n",
       "  <thead>\n",
       "    <tr style=\"text-align: right;\">\n",
       "      <th></th>\n",
       "      <th>Table</th>\n",
       "      <th>Unit</th>\n",
       "      <th>Variety</th>\n",
       "      <th>Year</th>\n",
       "      <th>Attribute</th>\n",
       "      <th>Value</th>\n",
       "    </tr>\n",
       "  </thead>\n",
       "  <tbody>\n",
       "    <tr>\n",
       "      <th>0</th>\n",
       "      <td>Genetically engineered (GE) corn varieties</td>\n",
       "      <td>Percent of corn planted</td>\n",
       "      <td>Insect-resistant (Bt) only</td>\n",
       "      <td>2000</td>\n",
       "      <td>Illinois</td>\n",
       "      <td>13</td>\n",
       "    </tr>\n",
       "    <tr>\n",
       "      <th>1</th>\n",
       "      <td>Genetically engineered (GE) corn varieties</td>\n",
       "      <td>Percent of corn planted</td>\n",
       "      <td>Insect-resistant (Bt) only</td>\n",
       "      <td>2000</td>\n",
       "      <td>Indiana</td>\n",
       "      <td>7</td>\n",
       "    </tr>\n",
       "    <tr>\n",
       "      <th>2</th>\n",
       "      <td>Genetically engineered (GE) corn varieties</td>\n",
       "      <td>Percent of corn planted</td>\n",
       "      <td>Insect-resistant (Bt) only</td>\n",
       "      <td>2000</td>\n",
       "      <td>Iowa</td>\n",
       "      <td>23</td>\n",
       "    </tr>\n",
       "    <tr>\n",
       "      <th>3</th>\n",
       "      <td>Genetically engineered (GE) corn varieties</td>\n",
       "      <td>Percent of corn planted</td>\n",
       "      <td>Insect-resistant (Bt) only</td>\n",
       "      <td>2000</td>\n",
       "      <td>Kansas</td>\n",
       "      <td>25</td>\n",
       "    </tr>\n",
       "    <tr>\n",
       "      <th>4</th>\n",
       "      <td>Genetically engineered (GE) corn varieties</td>\n",
       "      <td>Percent of corn planted</td>\n",
       "      <td>Insect-resistant (Bt) only</td>\n",
       "      <td>2000</td>\n",
       "      <td>Michigan</td>\n",
       "      <td>8</td>\n",
       "    </tr>\n",
       "    <tr>\n",
       "      <th>...</th>\n",
       "      <td>...</td>\n",
       "      <td>...</td>\n",
       "      <td>...</td>\n",
       "      <td>...</td>\n",
       "      <td>...</td>\n",
       "      <td>...</td>\n",
       "    </tr>\n",
       "    <tr>\n",
       "      <th>2935</th>\n",
       "      <td>Genetically engineered (GE) soybean varieties</td>\n",
       "      <td>Percent of all soybeans planted</td>\n",
       "      <td>All GE varieties</td>\n",
       "      <td>2020</td>\n",
       "      <td>Ohio</td>\n",
       "      <td>88</td>\n",
       "    </tr>\n",
       "    <tr>\n",
       "      <th>2936</th>\n",
       "      <td>Genetically engineered (GE) soybean varieties</td>\n",
       "      <td>Percent of all soybeans planted</td>\n",
       "      <td>All GE varieties</td>\n",
       "      <td>2020</td>\n",
       "      <td>South Dakota</td>\n",
       "      <td>95</td>\n",
       "    </tr>\n",
       "    <tr>\n",
       "      <th>2937</th>\n",
       "      <td>Genetically engineered (GE) soybean varieties</td>\n",
       "      <td>Percent of all soybeans planted</td>\n",
       "      <td>All GE varieties</td>\n",
       "      <td>2020</td>\n",
       "      <td>Wisconsin</td>\n",
       "      <td>89</td>\n",
       "    </tr>\n",
       "    <tr>\n",
       "      <th>2938</th>\n",
       "      <td>Genetically engineered (GE) soybean varieties</td>\n",
       "      <td>Percent of all soybeans planted</td>\n",
       "      <td>All GE varieties</td>\n",
       "      <td>2020</td>\n",
       "      <td>Other States</td>\n",
       "      <td>94</td>\n",
       "    </tr>\n",
       "    <tr>\n",
       "      <th>2939</th>\n",
       "      <td>Genetically engineered (GE) soybean varieties</td>\n",
       "      <td>Percent of all soybeans planted</td>\n",
       "      <td>All GE varieties</td>\n",
       "      <td>2020</td>\n",
       "      <td>U.S.</td>\n",
       "      <td>94</td>\n",
       "    </tr>\n",
       "  </tbody>\n",
       "</table>\n",
       "<p>2940 rows × 6 columns</p>\n",
       "</div>"
      ],
      "text/plain": [
       "                                              Table  \\\n",
       "0        Genetically engineered (GE) corn varieties   \n",
       "1        Genetically engineered (GE) corn varieties   \n",
       "2        Genetically engineered (GE) corn varieties   \n",
       "3        Genetically engineered (GE) corn varieties   \n",
       "4        Genetically engineered (GE) corn varieties   \n",
       "...                                             ...   \n",
       "2935  Genetically engineered (GE) soybean varieties   \n",
       "2936  Genetically engineered (GE) soybean varieties   \n",
       "2937  Genetically engineered (GE) soybean varieties   \n",
       "2938  Genetically engineered (GE) soybean varieties   \n",
       "2939  Genetically engineered (GE) soybean varieties   \n",
       "\n",
       "                                 Unit                     Variety  Year  \\\n",
       "0             Percent of corn planted  Insect-resistant (Bt) only  2000   \n",
       "1             Percent of corn planted  Insect-resistant (Bt) only  2000   \n",
       "2             Percent of corn planted  Insect-resistant (Bt) only  2000   \n",
       "3             Percent of corn planted  Insect-resistant (Bt) only  2000   \n",
       "4             Percent of corn planted  Insect-resistant (Bt) only  2000   \n",
       "...                               ...                         ...   ...   \n",
       "2935  Percent of all soybeans planted           All GE varieties   2020   \n",
       "2936  Percent of all soybeans planted           All GE varieties   2020   \n",
       "2937  Percent of all soybeans planted           All GE varieties   2020   \n",
       "2938  Percent of all soybeans planted           All GE varieties   2020   \n",
       "2939  Percent of all soybeans planted           All GE varieties   2020   \n",
       "\n",
       "         Attribute Value  \n",
       "0         Illinois    13  \n",
       "1          Indiana     7  \n",
       "2             Iowa    23  \n",
       "3           Kansas    25  \n",
       "4         Michigan     8  \n",
       "...            ...   ...  \n",
       "2935          Ohio    88  \n",
       "2936  South Dakota    95  \n",
       "2937     Wisconsin    89  \n",
       "2938  Other States    94  \n",
       "2939          U.S.    94  \n",
       "\n",
       "[2940 rows x 6 columns]"
      ]
     },
     "execution_count": 5,
     "metadata": {},
     "output_type": "execute_result"
    }
   ],
   "source": [
    "import pandas as pd\n",
    "import matplotlib.pyplot as plt\n",
    "df = pd.read_csv('alltablesGEcrops.csv')\n",
    "df"
   ]
  },
  {
   "cell_type": "code",
   "execution_count": 6,
   "metadata": {},
   "outputs": [],
   "source": [
    "corn_df = df[df['Table']=='Genetically engineered (GE) corn varieties']\n",
    "soybean_df = df[df['Table']=='Genetically engineered (GE) soybean varieties']\n",
    "uplandcotton_df = df[df['Table']=='Genetically engineered (GE) upland cotton varieties']"
   ]
  },
  {
   "cell_type": "code",
   "execution_count": 20,
   "metadata": {},
   "outputs": [
    {
     "data": {
      "text/plain": [
       "([<matplotlib.axis.YTick at 0x1e80c100730>,\n",
       "  <matplotlib.axis.YTick at 0x1e80c100310>,\n",
       "  <matplotlib.axis.YTick at 0x1e80ccb4b50>,\n",
       "  <matplotlib.axis.YTick at 0x1e80ccb4df0>,\n",
       "  <matplotlib.axis.YTick at 0x1e80ccbc340>,\n",
       "  <matplotlib.axis.YTick at 0x1e80ccbc850>,\n",
       "  <matplotlib.axis.YTick at 0x1e80ccb4850>,\n",
       "  <matplotlib.axis.YTick at 0x1e80cc92fd0>,\n",
       "  <matplotlib.axis.YTick at 0x1e80cc53460>,\n",
       "  <matplotlib.axis.YTick at 0x1e80cc8d430>],\n",
       " [Text(0, 0, '10'),\n",
       "  Text(0, 1, '20'),\n",
       "  Text(0, 2, '30'),\n",
       "  Text(0, 3, '40'),\n",
       "  Text(0, 4, '50'),\n",
       "  Text(0, 5, '60'),\n",
       "  Text(0, 6, '70'),\n",
       "  Text(0, 7, '80'),\n",
       "  Text(0, 8, '90'),\n",
       "  Text(0, 9, '100')])"
      ]
     },
     "execution_count": 20,
     "metadata": {},
     "output_type": "execute_result"
    },
    {
     "data": {
      "image/png": "[encoded data removed]",
      "text/plain": [
       "<Figure size 576x576 with 3 Axes>"
      ]
     },
     "metadata": {
      "needs_background": "light"
     },
     "output_type": "display_data"
    }
   ],
   "source": [
    "plt.figure()\n",
    "fig = plt.gcf()\n",
    "fig.set_size_inches(8,8)\n",
    "plt.subplot(3,1,1)\n",
    "plt.bar(corn_df['Year'],corn_df['Value'])\n",
    "plt.title('Corn')\n",
    "plt.yticks([10,20,30,40,50,60,70,80,90,100],[10,20,30,40,50,60,70,80,90,100],fontsize=10)\n",
    "plt.subplot(3,1,2)\n",
    "plt.bar(soybean_df['Year'],soybean_df['Value'])\n",
    "plt.title('Soybean')\n",
    "plt.yticks([10,20,30,40,50,60,70,80,90,100],[10,20,30,40,50,60,70,80,90,100],fontsize=10)\n",
    "plt.subplot(3,1,3)\n",
    "plt.bar(uplandcotton_df['Year'],uplandcotton_df['Value'])\n",
    "plt.title('Upland Cotton')\n",
    "plt.tight_layout()\n",
    "plt.yticks([10,20,30,40,50,60,70,80,90,100],[10,20,30,40,50,60,70,80,90,100],fontsize=10)"
   ]
  },
  {
   "cell_type": "code",
   "execution_count": 9,
   "metadata": {},
   "outputs": [],
   "source": [
    "Year_df=[df['Year']]\n",
    "Value_df=[df['Value']]\n",
    "Attribute_df=[df['Attribute']]\n",
    "Variety_df=[df['Variety']]"
   ]
  },
  {
   "cell_type": "code",
   "execution_count": 10,
   "metadata": {},
   "outputs": [
    {
     "data": {
      "text/plain": [
       "Text(0.5, 1.0, 'GE Crops by Year')"
      ]
     },
     "execution_count": 10,
     "metadata": {},
     "output_type": "execute_result"
    },
    {
     "data": {
      "image/png": "[encoded data removed]",
      "text/plain": [
       "<Figure size 432x288 with 1 Axes>"
      ]
     },
     "metadata": {
      "needs_background": "light"
     },
     "output_type": "display_data"
    }
   ],
   "source": [
    "plt.figure()\n",
    "plt.bar(df['Year'],df['Value'], color = 'purple')\n",
    "plt.yticks([10,20,30,40,50,60,70,80,90,100],[10,20,30,40,50,60,70,80,90,100],fontsize=10)\n",
    "plt.xlabel('Year')\n",
    "plt.ylabel('Percent Planted')\n",
    "plt.title('GE Crops by Year')"
   ]
  },
  {
   "cell_type": "code",
   "execution_count": 13,
   "metadata": {},
   "outputs": [
    {
     "data": {
      "text/plain": [
       "Text(0.5, 1.0, 'GE Crops by State')"
      ]
     },
     "execution_count": 13,
     "metadata": {},
     "output_type": "execute_result"
    },
    {
     "data": {
      "image/png": "[encoded data removed]",
      "text/plain": [
       "<Figure size 432x288 with 1 Axes>"
      ]
     },
     "metadata": {
      "needs_background": "light"
     },
     "output_type": "display_data"
    }
   ],
   "source": [
    "plt.figure()\n",
    "plt.bar(df['Attribute'],df['Value'],color='hotpink')\n",
    "plt.yticks([10,20,30,40,50,60,70,80,90,100],[10,20,30,40,50,60,70,80,90,100],fontsize=10)\n",
    "plt.xticks(fontsize=10,rotation=90)\n",
    "plt.xlabel('State')\n",
    "plt.ylabel('Percent Planted')\n",
    "plt.title('GE Crops by State')"
   ]
  },
  {
   "cell_type": "code",
   "execution_count": null,
   "metadata": {},
   "outputs": [],
   "source": []
  }
 ],
 "metadata": {
  "kernelspec": {
   "display_name": "Python 3",
   "language": "python",
   "name": "python3"
  },
  "language_info": {
   "codemirror_mode": {
    "name": "ipython",
    "version": 3
   },
   "file_extension": ".py",
   "mimetype": "text/x-python",
   "name": "python",
   "nbconvert_exporter": "python",
   "pygments_lexer": "ipython3",
   "version": "3.8.3"
  }
 },
 "nbformat": 4,
 "nbformat_minor": 4
}
