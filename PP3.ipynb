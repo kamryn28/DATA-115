{
 "cells": [
  {
   "cell_type": "code",
   "execution_count": 45,
   "metadata": {},
   "outputs": [],
   "source": [
    "import pandas as pd\n",
    "import matplotlib.pyplot as plt\n",
    "df = pd.read_csv('alltablesGEcrops2.csv')"
   ]
  },
  {
   "cell_type": "code",
   "execution_count": 46,
   "metadata": {},
   "outputs": [],
   "source": [
    "corn_df = df[df['Table']=='Genetically engineered (GE) corn varieties']\n",
    "soybean_df = df[df['Table']=='Genetically engineered (GE) soybean varieties']\n",
    "uplandcotton_df = df[df['Table']=='Genetically engineered (GE) upland cotton varieties']\n",
    "Year_df=[df['Year']]\n",
    "Value_df=[df['Value']]\n",
    "Attribute_df=[df['Attribute']]\n",
    "Variety_df=[df['Variety']]\n",
    "Table_df=[df['Table']]\n",
    "bt_df = df[df['Variety']=='Insect-resistant (Bt) only']\n",
    "st_df = df[df['Variety']=='Stacked gene varieties']\n",
    "ht_df = df[df['Variety']=='Herbicide-tolerant only']\n",
    "all_df = df[df['Variety']=='All GE varieties']"
   ]
  },
  {
   "cell_type": "code",
   "execution_count": 47,
   "metadata": {},
   "outputs": [
    {
     "data": {
      "text/html": [
       "<div>\n",
       "<style scoped>\n",
       "    .dataframe tbody tr th:only-of-type {\n",
       "        vertical-align: middle;\n",
       "    }\n",
       "\n",
       "    .dataframe tbody tr th {\n",
       "        vertical-align: top;\n",
       "    }\n",
       "\n",
       "    .dataframe thead th {\n",
       "        text-align: right;\n",
       "    }\n",
       "</style>\n",
       "<table border=\"1\" class=\"dataframe\">\n",
       "  <thead>\n",
       "    <tr style=\"text-align: right;\">\n",
       "      <th></th>\n",
       "      <th>Year</th>\n",
       "      <th>Value</th>\n",
       "    </tr>\n",
       "  </thead>\n",
       "  <tbody>\n",
       "    <tr>\n",
       "      <th>count</th>\n",
       "      <td>2940.000000</td>\n",
       "      <td>2940.000000</td>\n",
       "    </tr>\n",
       "    <tr>\n",
       "      <th>mean</th>\n",
       "      <td>2010.000000</td>\n",
       "      <td>49.831633</td>\n",
       "    </tr>\n",
       "    <tr>\n",
       "      <th>std</th>\n",
       "      <td>6.056331</td>\n",
       "      <td>37.012360</td>\n",
       "    </tr>\n",
       "    <tr>\n",
       "      <th>min</th>\n",
       "      <td>2000.000000</td>\n",
       "      <td>0.000000</td>\n",
       "    </tr>\n",
       "    <tr>\n",
       "      <th>25%</th>\n",
       "      <td>2005.000000</td>\n",
       "      <td>13.000000</td>\n",
       "    </tr>\n",
       "    <tr>\n",
       "      <th>50%</th>\n",
       "      <td>2010.000000</td>\n",
       "      <td>46.000000</td>\n",
       "    </tr>\n",
       "    <tr>\n",
       "      <th>75%</th>\n",
       "      <td>2015.000000</td>\n",
       "      <td>90.000000</td>\n",
       "    </tr>\n",
       "    <tr>\n",
       "      <th>max</th>\n",
       "      <td>2020.000000</td>\n",
       "      <td>100.000000</td>\n",
       "    </tr>\n",
       "  </tbody>\n",
       "</table>\n",
       "</div>"
      ],
      "text/plain": [
       "              Year        Value\n",
       "count  2940.000000  2940.000000\n",
       "mean   2010.000000    49.831633\n",
       "std       6.056331    37.012360\n",
       "min    2000.000000     0.000000\n",
       "25%    2005.000000    13.000000\n",
       "50%    2010.000000    46.000000\n",
       "75%    2015.000000    90.000000\n",
       "max    2020.000000   100.000000"
      ]
     },
     "execution_count": 47,
     "metadata": {},
     "output_type": "execute_result"
    }
   ],
   "source": [
    "df.describe()"
   ]
  },
  {
   "cell_type": "code",
   "execution_count": 52,
   "metadata": {},
   "outputs": [
    {
     "data": {
      "text/plain": [
       "([<matplotlib.axis.XTick at 0x22897eb0c10>,\n",
       "  <matplotlib.axis.XTick at 0x22897eb0880>,\n",
       "  <matplotlib.axis.XTick at 0x2289a127100>],\n",
       " [Text(0, 0, 'Corn'), Text(0, 0, 'Soybean'), Text(0, 0, 'Cotton')])"
      ]
     },
     "execution_count": 52,
     "metadata": {},
     "output_type": "execute_result"
    },
    {
     "data": {
      "image/png": "[encoded data removed]",
      "text/plain": [
       "<Figure size 576x576 with 1 Axes>"
      ]
     },
     "metadata": {
      "needs_background": "light"
     },
     "output_type": "display_data"
    }
   ],
   "source": [
    "plt.figure()\n",
    "fig = plt.gcf()\n",
    "fig.set_size_inches(8,8)\n",
    "plt.boxplot([corn_df['Value'],soybean_df['Value'],uplandcotton_df['Value']])\n",
    "plt.xticks([1,2,3],['Corn','Soybean','Cotton'])"
   ]
  },
  {
   "cell_type": "code",
   "execution_count": 51,
   "metadata": {},
   "outputs": [
    {
     "data": {
      "text/plain": [
       "([<matplotlib.axis.XTick at 0x2289a132ac0>,\n",
       "  <matplotlib.axis.XTick at 0x2289a132be0>,\n",
       "  <matplotlib.axis.XTick at 0x2289a0d3f10>],\n",
       " [Text(0, 0, 'Insect-resistant (Bt) only'),\n",
       "  Text(0, 0, 'Stacked gene varieties'),\n",
       "  Text(0, 0, 'Herbicide-tolerant only')])"
      ]
     },
     "execution_count": 51,
     "metadata": {},
     "output_type": "execute_result"
    },
    {
     "data": {
      "image/png": "[encoded data removed]",
      "text/plain": [
       "<Figure size 576x576 with 1 Axes>"
      ]
     },
     "metadata": {
      "needs_background": "light"
     },
     "output_type": "display_data"
    }
   ],
   "source": [
    "plt.figure()\n",
    "fig = plt.gcf()\n",
    "fig.set_size_inches(8,8)\n",
    "plt.boxplot([bt_df['Value'],st_df['Value'],ht_df['Value']])\n",
    "plt.xticks([1,2,3],['Insect-resistant (Bt) only','Stacked gene varieties','Herbicide-tolerant only'])"
   ]
  }
 ],
 "metadata": {
  "kernelspec": {
   "display_name": "Python 3",
   "language": "python",
   "name": "python3"
  },
  "language_info": {
   "codemirror_mode": {
    "name": "ipython",
    "version": 3
   },
   "file_extension": ".py",
   "mimetype": "text/x-python",
   "name": "python",
   "nbconvert_exporter": "python",
   "pygments_lexer": "ipython3",
   "version": "3.8.3"
  }
 },
 "nbformat": 4,
 "nbformat_minor": 4
}
